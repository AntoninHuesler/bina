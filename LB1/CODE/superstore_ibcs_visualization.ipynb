{
 "cells": [
  {
   "cell_type": "markdown",
   "id": "d085ba13",
   "metadata": {},
   "source": [
    "# Superstore-Datenanalyse nach IBCS-Standards\n",
    "Dieses Notebook analysiert den *Superstore*-Datensatz und visualisiert eine klare Kernaussage basierend auf Produktgewinnen. Die Darstellung folgt dem IBCS-Prinzip und hebt eine bestimmte Produktgruppe hervor."
   ]
  },
  {
   "cell_type": "code",
   "execution_count": null,
   "id": "4a6e67b1",
   "metadata": {},
   "outputs": [],
   "source": [
    "import pandas as pd\n",
    "import matplotlib.pyplot as plt\n",
    "import seaborn as sns"
   ]
  },
  {
   "cell_type": "code",
   "execution_count": null,
   "id": "9d9cc12d",
   "metadata": {},
   "outputs": [],
   "source": [
    "# Hochladen der Datei in Colab\n",
    "from google.colab import files\n",
    "uploaded = files.upload()\n",
    "\n",
    "# Daten laden\n",
    "file_name = list(uploaded.keys())[0]  # Erster hochgeladener Dateiname\n",
    "df = pd.read_csv(file_name, encoding='ISO-8859-1')"
   ]
  },
  {
   "cell_type": "code",
   "execution_count": null,
   "id": "f5657e55",
   "metadata": {},
   "outputs": [],
   "source": [
    "# Relevante Spalten auswählen und bereinigen\n",
    "df = df[['Product Name', 'Category', 'Sub-Category', 'Sales', 'Profit']].dropna()\n",
    "\n",
    "# Beispiel: Produktlinie mit hohem Gewinn identifizieren\n",
    "selected_category = 'Technology'  # Beispiel-Kategorie\n",
    "df_selected = df[df['Category'] == selected_category]\n",
    "\n",
    "# Gewinnsegment definieren (oberste 10%)\n",
    "high_profit_threshold = df_selected['Profit'].quantile(0.9)\n",
    "df_high_profit = df_selected[df_selected['Profit'] >= high_profit_threshold]"
   ]
  },
  {
   "cell_type": "code",
   "execution_count": null,
   "id": "59ea423c",
   "metadata": {},
   "outputs": [],
   "source": [
    "# Scatter-Plot mit Kernaussage erstellen\n",
    "plt.figure(figsize=(10, 6))\n",
    "sns.scatterplot(x=df_selected['Sales'], y=df_selected['Profit'], alpha=0.6, label='Alle Produkte')\n",
    "\n",
    "# Produkte mit hohem Gewinn markieren\n",
    "sns.scatterplot(x=df_high_profit['Sales'], y=df_high_profit['Profit'], color='red', label='Hoher Gewinn')\n",
    "\n",
    "# Nachricht hinzufügen (analog zum IBCS-Bild)\n",
    "message_text = f\"{len(df_high_profit)} Produkte von {selected_category} sind\\nim Gewinnsegment von {round(high_profit_threshold, 2)} USD\"\n",
    "plt.text(x=df_selected['Sales'].max() * 0.6, \n",
    "         y=df_selected['Profit'].max() * 0.9,\n",
    "         s=message_text,\n",
    "         fontsize=12, bbox=dict(facecolor='white', alpha=0.7))\n",
    "\n",
    "# Achsentitel setzen\n",
    "plt.xlabel('Umsatz (Sales)')\n",
    "plt.ylabel('Gewinn (Profit)')\n",
    "plt.title(f'Analyse der Produktgewinne für {selected_category} (Superstore-Datensatz)')\n",
    "plt.legend()\n",
    "plt.grid(True)\n",
    "\n",
    "# Visualisierung anzeigen\n",
    "plt.show()"
   ]
  }
 ],
 "metadata": {},
 "nbformat": 4,
 "nbformat_minor": 5
}